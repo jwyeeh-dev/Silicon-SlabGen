{
 "cells": [
  {
   "cell_type": "code",
   "execution_count": null,
   "metadata": {},
   "outputs": [],
   "source": [
    "import numpy as np\n",
    "from ase import Atoms\n",
    "from joblib import Parallel, delayed\n",
    "\n",
    "from utils.constant import COD_ATOMLIST, MP_ATOMLIST\n"
   ]
  },
  {
   "cell_type": "code",
   "execution_count": 4,
   "metadata": {},
   "outputs": [],
   "source": [
    "\n",
    "def get_fakeatoms_positioning_in_the_grid(atoms, nbins):\n",
    "    \"\"\"Create dummy atoms positioning in the grid.\"\"\"\n",
    "    # fakeatoms for grid\n",
    "    grid = np.array([i/float(nbins) for i in range(nbins)])\n",
    "    yv, xv, zv = np.meshgrid(grid, grid, grid)\n",
    "    pos = np.zeros((nbins**3, 3))\n",
    "    pos[:, 0] = xv.flatten()\n",
    "    pos[:, 1] = yv.flatten()\n",
    "    pos[:, 2] = zv.flatten()\n",
    "    # making pseudo-crystal containing H positioned at pre-defined fractional coordinate\n",
    "    fakeatoms_grid = Atoms('H' + str(nbins**3))\n",
    "    fakeatoms_grid.set_cell(atoms.get_cell())\n",
    "    fakeatoms_grid.set_pbc(True)\n",
    "    fakeatoms_grid.set_scaled_positions(pos)\n",
    "    return fakeatoms_grid\n",
    "\n"
   ]
  },
  {
   "cell_type": "code",
   "execution_count": 5,
   "metadata": {},
   "outputs": [],
   "source": [
    "\n",
    "def get_scale(sigma):\n",
    "    \"\"\"Get a scale for images\"\"\"\n",
    "    scale = 1.0 / (2 * sigma ** 2)\n",
    "    return scale\n",
    "\n"
   ]
  },
  {
   "cell_type": "code",
   "execution_count": 6,
   "metadata": {},
   "outputs": [],
   "source": [
    "\n",
    "def get_image_one_atom(atom, fakeatoms_grid, nbins):\n",
    "    \"\"\"Create one image from one ase atom object.\"\"\"\n",
    "    grid_copy = fakeatoms_grid.copy()\n",
    "    image = np.zeros((1, nbins**3))\n",
    "    grid_copy.append(atom)\n",
    "    drijk = grid_copy.get_distances(-1, range(0, nbins**3), mic=True)\n",
    "    scale = get_scale(sigma=0.26)\n",
    "    pijk = np.exp(-scale * drijk ** 2)\n",
    "    image[:, :] = pijk.flatten()\n",
    "    return image.reshape(nbins, nbins, nbins)\n"
   ]
  },
  {
   "cell_type": "code",
   "execution_count": 7,
   "metadata": {},
   "outputs": [],
   "source": [
    "\n",
    "\n",
    "def get_all_atomlabel(all_atomlist=None):\n",
    "    \"\"\"Get an element information.\"\"\"\n",
    "    if all_atomlist is None:\n",
    "        all_atomlist = list(set(MP_ATOMLIST + COD_ATOMLIST))\n",
    "\n",
    "    all_atomlist = sorted(all_atomlist)\n",
    "    return all_atomlist\n",
    "\n"
   ]
  },
  {
   "cell_type": "code",
   "execution_count": 8,
   "metadata": {},
   "outputs": [],
   "source": [
    "\n",
    "def ase_atoms_to_image(ase_atoms, nbins, all_atomlist, num_cores):\n",
    "    \"\"\"Create images from ase atom objects. (multi process)\"\"\"\n",
    "    fakeatoms_grid = get_fakeatoms_positioning_in_the_grid(ase_atoms, nbins)\n",
    "    # so slow...\n",
    "    imageall_gen = Parallel(n_jobs=num_cores)(\n",
    "        delayed(get_image_one_atom)(atom, fakeatoms_grid, nbins) for atom in ase_atoms)\n",
    "    imageall_list = list(imageall_gen)\n",
    "    all_atomlist = get_all_atomlabel(all_atomlist)\n",
    "\n",
    "    channellist = []\n",
    "    for i, atom in enumerate(ase_atoms):\n",
    "        channellist.append(atom.symbol)\n",
    "\n",
    "    channellist = sorted(list(set(channellist)))\n",
    "    nc = len(channellist)\n",
    "    image = np.zeros((nbins, nbins, nbins, nc))\n",
    "    for i, atom in enumerate(ase_atoms):\n",
    "        nnc = channellist.index(atom.symbol)\n",
    "        img_i = imageall_list[i]\n",
    "        image[:, :, :, nnc] += img_i * (img_i >= 0.02)\n",
    "\n",
    "    return image, channellist\n"
   ]
  },
  {
   "cell_type": "code",
   "execution_count": 9,
   "metadata": {},
   "outputs": [],
   "source": [
    "\n",
    "\n",
    "def basis_translate(ase_atoms):\n",
    "    \"\"\"Create dummy atoms for basis images.\"\"\"\n",
    "    N = len(ase_atoms)\n",
    "    pos = ase_atoms.positions\n",
    "    cg = np.mean(pos, 0)\n",
    "    dr = 7.5 - cg  # move to center of 15A-cubic box\n",
    "    dpos = np.repeat(dr.reshape(1, 3), N, 0)\n",
    "    new_pos = dpos + pos\n",
    "    atoms_ = ase_atoms.copy()\n",
    "    atoms_.cell = 15.0 * np.identity(3)\n",
    "    atoms_.positions = new_pos\n",
    "    return atoms_\n",
    "\n"
   ]
  },
  {
   "cell_type": "code",
   "execution_count": 10,
   "metadata": {},
   "outputs": [],
   "source": [
    "\n",
    "def cell_translate(ase_atoms):\n",
    "    \"\"\"Create dummy atoms for cell images.\"\"\"\n",
    "    cell = ase_atoms.cell\n",
    "    atoms_ = Atoms('Si')\n",
    "    atoms_.cell = cell\n",
    "    atoms_.set_scaled_positions([0.5, 0.5, 0.5])\n",
    "    return atoms_"
   ]
  },
  {
   "cell_type": "code",
   "execution_count": null,
   "metadata": {},
   "outputs": [],
   "source": []
  }
 ],
 "metadata": {
  "kernelspec": {
   "display_name": "Python 3.7.13 ('torch')",
   "language": "python",
   "name": "python3"
  },
  "language_info": {
   "codemirror_mode": {
    "name": "ipython",
    "version": 3
   },
   "file_extension": ".py",
   "mimetype": "text/x-python",
   "name": "python",
   "nbconvert_exporter": "python",
   "pygments_lexer": "ipython3",
   "version": "3.7.13"
  },
  "orig_nbformat": 4,
  "vscode": {
   "interpreter": {
    "hash": "2a20452d9193a5698c052474fddbc6c887a21c42990f2a8e068624fcaa8733f4"
   }
  }
 },
 "nbformat": 4,
 "nbformat_minor": 2
}
